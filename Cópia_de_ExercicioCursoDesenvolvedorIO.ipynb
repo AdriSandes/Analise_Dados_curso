{
  "nbformat": 4,
  "nbformat_minor": 0,
  "metadata": {
    "colab": {
      "provenance": [],
      "authorship_tag": "ABX9TyMgzjItF53+3Z0U4avU6cNQ",
      "include_colab_link": true
    },
    "kernelspec": {
      "name": "python3",
      "display_name": "Python 3"
    },
    "language_info": {
      "name": "python"
    }
  },
  "cells": [
    {
      "cell_type": "markdown",
      "metadata": {
        "id": "view-in-github",
        "colab_type": "text"
      },
      "source": [
        "<a href=\"https://colab.research.google.com/github/AdriSandes/Analise_Dados_curso/blob/main/C%C3%B3pia_de_ExercicioCursoDesenvolvedorIO.ipynb\" target=\"_parent\"><img src=\"https://colab.research.google.com/assets/colab-badge.svg\" alt=\"Open In Colab\"/></a>"
      ]
    },
    {
      "cell_type": "code",
      "source": [],
      "metadata": {
        "id": "nNMLJ75TNRiF"
      },
      "execution_count": null,
      "outputs": []
    },
    {
      "cell_type": "markdown",
      "source": [
        "Coleta de Dados"
      ],
      "metadata": {
        "id": "xoUWgcX-NPot"
      }
    },
    {
      "cell_type": "code",
      "execution_count": null,
      "metadata": {
        "id": "TuPS2zoOHum6"
      },
      "outputs": [],
      "source": [
        "import pandas as pd"
      ]
    },
    {
      "cell_type": "code",
      "source": [
        "#URL da base de dados com nomes e colunas\n",
        "url = 'https://archive.ics.uci.edu/ml/machine-learning-databases/iris/iris.data'"
      ],
      "metadata": {
        "id": "GSgABNjNJdX_"
      },
      "execution_count": null,
      "outputs": []
    },
    {
      "cell_type": "markdown",
      "source": [],
      "metadata": {
        "id": "Ws49w5POKEhU"
      }
    },
    {
      "cell_type": "code",
      "source": [
        "#carregar a base de dados com nome de colunas ( o dataset não tem cabeçalho)\n",
        "colunas=['SepalLength','SepalWidth','PetalLength','PetalWidth','Class']\n",
        "df = pd.read_csv(url,header=None, names=colunas)\n",
        "print(df.head())"
      ],
      "metadata": {
        "colab": {
          "base_uri": "https://localhost:8080/"
        },
        "id": "ENIuDdK6I_3A",
        "outputId": "04e146cf-5783-43e3-cb3d-e7e82bed8287"
      },
      "execution_count": null,
      "outputs": [
        {
          "output_type": "stream",
          "name": "stdout",
          "text": [
            "   SepalLength  SepalWidth  PetalLength  PetalWidth        Class\n",
            "0          5.1         3.5          1.4         0.2  Iris-setosa\n",
            "1          4.9         3.0          1.4         0.2  Iris-setosa\n",
            "2          4.7         3.2          1.3         0.2  Iris-setosa\n",
            "3          4.6         3.1          1.5         0.2  Iris-setosa\n",
            "4          5.0         3.6          1.4         0.2  Iris-setosa\n"
          ]
        }
      ]
    },
    {
      "cell_type": "code",
      "source": [
        "import requests"
      ],
      "metadata": {
        "id": "Tz89QPGyLAiB"
      },
      "execution_count": null,
      "outputs": []
    },
    {
      "cell_type": "code",
      "source": [
        "#URL da API pública que retorna um conjunto de dados em formato JSON\n",
        "url=\"https://jsonplaceholder.typicode.com/posts\""
      ],
      "metadata": {
        "id": "252gRTN7LFxr"
      },
      "execution_count": null,
      "outputs": []
    },
    {
      "cell_type": "code",
      "source": [
        "#fazer a solicitação GET à API\n",
        "response=requests.get(url)\n",
        "if response.status_code==200:\n",
        "    #converter a resposta para JSON\n",
        "    df=pd.DataFrame(response.json())\n",
        "    print(df.head())\n",
        "else:\n",
        "  print(\"Erro ao acessar a API:\",response.status_code)"
      ],
      "metadata": {
        "colab": {
          "base_uri": "https://localhost:8080/"
        },
        "id": "LnAk66cpLdWl",
        "outputId": "e75f6069-36f6-47e6-e283-a5f273867981"
      },
      "execution_count": null,
      "outputs": [
        {
          "output_type": "stream",
          "name": "stdout",
          "text": [
            "   userId  id                                              title  \\\n",
            "0       1   1  sunt aut facere repellat provident occaecati e...   \n",
            "1       1   2                                       qui est esse   \n",
            "2       1   3  ea molestias quasi exercitationem repellat qui...   \n",
            "3       1   4                               eum et est occaecati   \n",
            "4       1   5                                 nesciunt quas odio   \n",
            "\n",
            "                                                body  \n",
            "0  quia et suscipit\\nsuscipit recusandae consequu...  \n",
            "1  est rerum tempore vitae\\nsequi sint nihil repr...  \n",
            "2  et iusto sed quo iure\\nvoluptatem occaecati om...  \n",
            "3  ullam et saepe reiciendis voluptatem adipisci\\...  \n",
            "4  repudiandae veniam quaerat sunt sed\\nalias aut...  \n"
          ]
        }
      ]
    },
    {
      "cell_type": "markdown",
      "source": [
        "Descrição do Dataset\n",
        "\n"
      ],
      "metadata": {
        "id": "OIyxO-YPNasg"
      }
    },
    {
      "cell_type": "code",
      "source": [
        "import pandas as pd"
      ],
      "metadata": {
        "id": "YkfzPk8yNlXD"
      },
      "execution_count": null,
      "outputs": []
    },
    {
      "cell_type": "code",
      "source": [
        "#URL da base de dados com nomes e colunas\n",
        "url = 'https://archive.ics.uci.edu/ml/machine-learning-databases/iris/iris.data'\n",
        "#carregar a base de dados com nome de colunas\n",
        "colunas=['SepalLength','SepalWidth','PetalLength','PetalWidth','Class']\n",
        "df = pd.read_csv(url,header=None, names=colunas)\n"
      ],
      "metadata": {
        "id": "IGfuJ1gPNu7r"
      },
      "execution_count": null,
      "outputs": []
    },
    {
      "cell_type": "code",
      "source": [
        "print(df.info()) #mostrar informações sobre tipos de dados e quantidade d valores não nulos"
      ],
      "metadata": {
        "colab": {
          "base_uri": "https://localhost:8080/"
        },
        "id": "PzIkSEseOR7z",
        "outputId": "73cb291a-5dd0-47dd-a648-84d27ff6a0a6"
      },
      "execution_count": null,
      "outputs": [
        {
          "output_type": "stream",
          "name": "stdout",
          "text": [
            "<class 'pandas.core.frame.DataFrame'>\n",
            "RangeIndex: 150 entries, 0 to 149\n",
            "Data columns (total 5 columns):\n",
            " #   Column       Non-Null Count  Dtype  \n",
            "---  ------       --------------  -----  \n",
            " 0   SepalLength  150 non-null    float64\n",
            " 1   SepalWidth   150 non-null    float64\n",
            " 2   PetalLength  150 non-null    float64\n",
            " 3   PetalWidth   150 non-null    float64\n",
            " 4   Class        150 non-null    object \n",
            "dtypes: float64(4), object(1)\n",
            "memory usage: 6.0+ KB\n",
            "None\n"
          ]
        }
      ]
    },
    {
      "cell_type": "code",
      "source": [
        "print(df.describe()) #Estatística como média, mediana,mínimo e máximo"
      ],
      "metadata": {
        "colab": {
          "base_uri": "https://localhost:8080/"
        },
        "id": "WjjuY5IcOlA6",
        "outputId": "440f8c38-46eb-40de-aa13-0053db76990f"
      },
      "execution_count": null,
      "outputs": [
        {
          "output_type": "stream",
          "name": "stdout",
          "text": [
            "       SepalLength  SepalWidth  PetalLength  PetalWidth\n",
            "count   150.000000  150.000000   150.000000  150.000000\n",
            "mean      5.843333    3.054000     3.758667    1.198667\n",
            "std       0.828066    0.433594     1.764420    0.763161\n",
            "min       4.300000    2.000000     1.000000    0.100000\n",
            "25%       5.100000    2.800000     1.600000    0.300000\n",
            "50%       5.800000    3.000000     4.350000    1.300000\n",
            "75%       6.400000    3.300000     5.100000    1.800000\n",
            "max       7.900000    4.400000     6.900000    2.500000\n"
          ]
        }
      ]
    },
    {
      "cell_type": "markdown",
      "source": [
        "Exploração"
      ],
      "metadata": {
        "id": "99MW8h8FPeyo"
      }
    },
    {
      "cell_type": "code",
      "source": [
        "import matplotlib.pyplot as plt\n",
        "df['SepalLength'].hist(bins=20)\n",
        "plt.title('Distribuição da coluna de Interesse')\n",
        "plt.xlabel('Valores')\n",
        "plt.ylabel('Frequência')\n",
        "plt.show()"
      ],
      "metadata": {
        "colab": {
          "base_uri": "https://localhost:8080/",
          "height": 472
        },
        "id": "4JivwxbDPnx4",
        "outputId": "5b03c025-e936-4121-9b6d-beaa856f2ed8"
      },
      "execution_count": null,
      "outputs": [
        {
          "output_type": "display_data",
          "data": {
            "text/plain": [
              "<Figure size 640x480 with 1 Axes>"
            ],
            "image/png": "[encoded data removed]"
          },
          "metadata": {}
        }
      ]
    },
    {
      "cell_type": "code",
      "source": [
        "plt.scatter(df['SepalLength'],df['Class'])\n",
        "plt.title('Gráfico de Dispersão')\n",
        "plt.xlabel('Coluna X')\n",
        "plt.ylabel('Coluna Y')\n",
        "plt.show()"
      ],
      "metadata": {
        "colab": {
          "base_uri": "https://localhost:8080/",
          "height": 472
        },
        "id": "BqJumDBlQrOh",
        "outputId": "6d239659-48d4-4d3a-cd6a-d9a08074911e"
      },
      "execution_count": null,
      "outputs": [
        {
          "output_type": "display_data",
          "data": {
            "text/plain": [
              "<Figure size 640x480 with 1 Axes>"
            ],
            "image/png": "[encoded data removed]"
          },
          "metadata": {}
        }
      ]
    },
    {
      "cell_type": "markdown",
      "source": [
        "Verificação de Dados"
      ],
      "metadata": {
        "id": "fbucnXKSaS6R"
      }
    },
    {
      "cell_type": "code",
      "source": [
        "import pandas as pd"
      ],
      "metadata": {
        "id": "akvSgckURg3w"
      },
      "execution_count": null,
      "outputs": []
    },
    {
      "cell_type": "code",
      "source": [
        "#URL base de dados Heart Disease do UCI Machine Learning Repository\n",
        "url='https://archive.ics.uci.edu/ml/machine-learning-databases/heart-disease/processed.cleveland.data'\n",
        "#carregar a basede dados com nomes de colunas\n",
        "colunas=['age','sex','cp','trestbps','chol','fbs','restecg','thalach','exang','oldpeak','slope','ca','thal','num']\n",
        "df=pd.read_csv(url,header=None,names=colunas)\n",
        "#exibir as primeiras linhas da base de dados\n",
        "print(df.head())"
      ],
      "metadata": {
        "colab": {
          "base_uri": "https://localhost:8080/"
        },
        "id": "mtiqRVOGYqaV",
        "outputId": "c05a109d-a66a-48e0-f144-5d9ffff7fc21"
      },
      "execution_count": null,
      "outputs": [
        {
          "output_type": "stream",
          "name": "stdout",
          "text": [
            "    age  sex   cp  trestbps   chol  fbs  restecg  thalach  exang  oldpeak  \\\n",
            "0  63.0  1.0  1.0     145.0  233.0  1.0      2.0    150.0    0.0      2.3   \n",
            "1  67.0  1.0  4.0     160.0  286.0  0.0      2.0    108.0    1.0      1.5   \n",
            "2  67.0  1.0  4.0     120.0  229.0  0.0      2.0    129.0    1.0      2.6   \n",
            "3  37.0  1.0  3.0     130.0  250.0  0.0      0.0    187.0    0.0      3.5   \n",
            "4  41.0  0.0  2.0     130.0  204.0  0.0      2.0    172.0    0.0      1.4   \n",
            "\n",
            "   slope   ca thal  num  \n",
            "0    3.0  0.0  6.0    0  \n",
            "1    2.0  3.0  3.0    2  \n",
            "2    2.0  2.0  7.0    1  \n",
            "3    3.0  0.0  3.0    0  \n",
            "4    1.0  0.0  3.0    0  \n"
          ]
        }
      ]
    },
    {
      "cell_type": "code",
      "source": [
        "#Verificar em quais colunas existem valores com '?'\n",
        "colunas_com_interrogacao=df.columns[(df=='?').any()].tolist()\n",
        "print(\"Colunas que contêm '?':\",colunas_com_interrogacao)\n"
      ],
      "metadata": {
        "colab": {
          "base_uri": "https://localhost:8080/"
        },
        "id": "Mp6N3GhfajKr",
        "outputId": "e0293a12-a4ab-4b61-9bcf-d6fda863c2fa"
      },
      "execution_count": null,
      "outputs": [
        {
          "output_type": "stream",
          "name": "stdout",
          "text": [
            "Colunas que contêm '?': []\n"
          ]
        }
      ]
    },
    {
      "cell_type": "code",
      "source": [
        "import numpy as np\n",
        "\n",
        "#Substituir valores '?' por NaN\n",
        "df.replace('?',np.nan,inplace=True)\n",
        "#Converter colunas numéricas para o tipo correto\n",
        "df=df.apply(pd.to_numeric,errors='ignore')\n",
        "\n"
      ],
      "metadata": {
        "colab": {
          "base_uri": "https://localhost:8080/"
        },
        "id": "Jl7cBIq-byGJ",
        "outputId": "303086cc-4363-43c4-90fc-f59970f3b52d"
      },
      "execution_count": null,
      "outputs": [
        {
          "output_type": "stream",
          "name": "stderr",
          "text": [
            "<ipython-input-27-c06c55db7a97>:6: FutureWarning: errors='ignore' is deprecated and will raise in a future version. Use to_numeric without passing `errors` and catch exceptions explicitly instead\n",
            "  df=df.apply(pd.to_numeric,errors='ignore')\n"
          ]
        }
      ]
    },
    {
      "cell_type": "code",
      "source": [
        "#Identificar valores ausentes\n",
        "print(df.isnull().sum())"
      ],
      "metadata": {
        "colab": {
          "base_uri": "https://localhost:8080/"
        },
        "id": "vlxoC_BsdGg0",
        "outputId": "fbafdd87-703a-4a82-be82-5da37ebf8514"
      },
      "execution_count": null,
      "outputs": [
        {
          "output_type": "stream",
          "name": "stdout",
          "text": [
            "age         0\n",
            "sex         0\n",
            "cp          0\n",
            "trestbps    0\n",
            "chol        0\n",
            "fbs         0\n",
            "restecg     0\n",
            "thalach     0\n",
            "exang       0\n",
            "oldpeak     0\n",
            "slope       0\n",
            "ca          4\n",
            "thal        2\n",
            "num         0\n",
            "dtype: int64\n"
          ]
        }
      ]
    },
    {
      "cell_type": "code",
      "source": [
        "#Verificar a quantidade de linhas duplicadas\n",
        "print(\"Linhas duplicadas:\", df.duplicated().sum())"
      ],
      "metadata": {
        "colab": {
          "base_uri": "https://localhost:8080/"
        },
        "id": "cUmtrWLJcnul",
        "outputId": "0c9266c2-3a1d-4f97-eed3-f9cbe840be41"
      },
      "execution_count": null,
      "outputs": [
        {
          "output_type": "stream",
          "name": "stdout",
          "text": [
            "Linhas duplicadas: 0\n"
          ]
        }
      ]
    },
    {
      "cell_type": "code",
      "source": [
        "# criando linh duplicada de exemplo\n",
        "linha_duplicada=df.iloc[0].copy()"
      ],
      "metadata": {
        "id": "Wqk5Zb7aeX0G"
      },
      "execution_count": null,
      "outputs": []
    },
    {
      "cell_type": "code",
      "source": [
        "# acrescentado linha duplicada ao df\n",
        "df=pd.concat([df, pd.DataFrame([linha_duplicada])],ignore_index=True)"
      ],
      "metadata": {
        "id": "acPMWmvsep4M"
      },
      "execution_count": null,
      "outputs": []
    },
    {
      "cell_type": "code",
      "source": [
        "df.info()"
      ],
      "metadata": {
        "colab": {
          "base_uri": "https://localhost:8080/"
        },
        "id": "9bElzeo6fnXF",
        "outputId": "88b6dac8-f617-424c-f52c-85e572c1ae46"
      },
      "execution_count": null,
      "outputs": [
        {
          "output_type": "stream",
          "name": "stdout",
          "text": [
            "<class 'pandas.core.frame.DataFrame'>\n",
            "RangeIndex: 304 entries, 0 to 303\n",
            "Data columns (total 14 columns):\n",
            " #   Column    Non-Null Count  Dtype  \n",
            "---  ------    --------------  -----  \n",
            " 0   age       304 non-null    float64\n",
            " 1   sex       304 non-null    float64\n",
            " 2   cp        304 non-null    float64\n",
            " 3   trestbps  304 non-null    float64\n",
            " 4   chol      304 non-null    float64\n",
            " 5   fbs       304 non-null    float64\n",
            " 6   restecg   304 non-null    float64\n",
            " 7   thalach   304 non-null    float64\n",
            " 8   exang     304 non-null    float64\n",
            " 9   oldpeak   304 non-null    float64\n",
            " 10  slope     304 non-null    float64\n",
            " 11  ca        300 non-null    float64\n",
            " 12  thal      302 non-null    float64\n",
            " 13  num       304 non-null    float64\n",
            "dtypes: float64(14)\n",
            "memory usage: 33.4 KB\n"
          ]
        }
      ]
    },
    {
      "cell_type": "code",
      "source": [
        "#Remover duplicadas\n",
        "df.drop_duplicates(inplace=True)"
      ],
      "metadata": {
        "id": "E-XQI-higShT"
      },
      "execution_count": null,
      "outputs": []
    },
    {
      "cell_type": "code",
      "source": [
        "df.info()"
      ],
      "metadata": {
        "colab": {
          "base_uri": "https://localhost:8080/"
        },
        "id": "atU9bvDGgceV",
        "outputId": "d4761013-2e4f-47c6-d947-93ab508cd607"
      },
      "execution_count": null,
      "outputs": [
        {
          "output_type": "stream",
          "name": "stdout",
          "text": [
            "<class 'pandas.core.frame.DataFrame'>\n",
            "Index: 303 entries, 0 to 302\n",
            "Data columns (total 14 columns):\n",
            " #   Column    Non-Null Count  Dtype  \n",
            "---  ------    --------------  -----  \n",
            " 0   age       303 non-null    float64\n",
            " 1   sex       303 non-null    float64\n",
            " 2   cp        303 non-null    float64\n",
            " 3   trestbps  303 non-null    float64\n",
            " 4   chol      303 non-null    float64\n",
            " 5   fbs       303 non-null    float64\n",
            " 6   restecg   303 non-null    float64\n",
            " 7   thalach   303 non-null    float64\n",
            " 8   exang     303 non-null    float64\n",
            " 9   oldpeak   303 non-null    float64\n",
            " 10  slope     303 non-null    float64\n",
            " 11  ca        299 non-null    float64\n",
            " 12  thal      301 non-null    float64\n",
            " 13  num       303 non-null    float64\n",
            "dtypes: float64(14)\n",
            "memory usage: 35.5 KB\n"
          ]
        }
      ]
    },
    {
      "cell_type": "code",
      "source": [
        "#Verificar a quantidade de linhas duplicadas\n",
        "print(\"Linhas duplicadas:\", df.duplicated().sum())"
      ],
      "metadata": {
        "colab": {
          "base_uri": "https://localhost:8080/"
        },
        "id": "Ai6Vsd27ghR5",
        "outputId": "9c70e712-1d40-44aa-bb25-2c9bad4f7af2"
      },
      "execution_count": null,
      "outputs": [
        {
          "output_type": "stream",
          "name": "stdout",
          "text": [
            "Linhas duplicadas: 0\n"
          ]
        }
      ]
    },
    {
      "cell_type": "code",
      "source": [
        "#grafico de idade\n",
        "plt.scatter(df['age'],df['thal'],alpha=0.6,c='blue',edgecolors='w')\n",
        "plt.title('Gráfico de Dispersão: Age vs.Thal')\n",
        "plt.xlabel('Age')\n",
        "plt.ylabel('Thal')\n",
        "plt.grid(True)\n",
        "plt.show()"
      ],
      "metadata": {
        "colab": {
          "base_uri": "https://localhost:8080/",
          "height": 472
        },
        "id": "K3Gc4Gvlgrv3",
        "outputId": "9af7f412-80d9-4261-fcc1-02b0e09d6310"
      },
      "execution_count": null,
      "outputs": [
        {
          "output_type": "display_data",
          "data": {
            "text/plain": [
              "<Figure size 640x480 with 1 Axes>"
            ],
            "image/png": "[encoded data removed]"
          },
          "metadata": {}
        }
      ]
    },
    {
      "cell_type": "code",
      "source": [
        "#Preencher valores ausentes com a média da coluna\n",
        "df['thal'].fillna(df['thal'].mean(),inplace=True)"
      ],
      "metadata": {
        "colab": {
          "base_uri": "https://localhost:8080/"
        },
        "id": "1K5ilLz4hwHW",
        "outputId": "da1553f1-90cd-492a-eaf8-83d4f28265ad"
      },
      "execution_count": null,
      "outputs": [
        {
          "output_type": "stream",
          "name": "stderr",
          "text": [
            "<ipython-input-42-34079a9950b9>:2: FutureWarning: A value is trying to be set on a copy of a DataFrame or Series through chained assignment using an inplace method.\n",
            "The behavior will change in pandas 3.0. This inplace method will never work because the intermediate object on which we are setting values always behaves as a copy.\n",
            "\n",
            "For example, when doing 'df[col].method(value, inplace=True)', try using 'df.method({col: value}, inplace=True)' or df[col] = df[col].method(value) instead, to perform the operation inplace on the original object.\n",
            "\n",
            "\n",
            "  df['thal'].fillna(df['thal'].mean(),inplace=True)\n"
          ]
        }
      ]
    },
    {
      "cell_type": "code",
      "source": [
        "plt.scatter(df['age'],df['ca'],alpha=0.6,c='blue',edgecolors='w')\n",
        "plt.title('Gráfico de Dispersão: Age vs.Ca')\n",
        "plt.xlabel('Age')\n",
        "plt.ylabel('Ca')\n",
        "plt.grid(True)\n",
        "plt.show()"
      ],
      "metadata": {
        "colab": {
          "base_uri": "https://localhost:8080/",
          "height": 472
        },
        "id": "ecaF8E4rjQgu",
        "outputId": "00988bdf-0985-4f3f-9d6f-8e6ec841f758"
      },
      "execution_count": null,
      "outputs": [
        {
          "output_type": "display_data",
          "data": {
            "text/plain": [
              "<Figure size 640x480 with 1 Axes>"
            ],
            "image/png": "[encoded data removed]"
          },
          "metadata": {}
        }
      ]
    },
    {
      "cell_type": "code",
      "source": [
        "#Preencher valores ausentes com a média da coluna\n",
        "df['ca'].fillna(df['ca'].mean(),inplace=True)"
      ],
      "metadata": {
        "colab": {
          "base_uri": "https://localhost:8080/"
        },
        "id": "u7HEIeBYjqsu",
        "outputId": "04ffe59f-adca-4cb5-ffe2-e78491b0008a"
      },
      "execution_count": null,
      "outputs": [
        {
          "output_type": "stream",
          "name": "stderr",
          "text": [
            "<ipython-input-47-9db3c12dc3d7>:2: FutureWarning: A value is trying to be set on a copy of a DataFrame or Series through chained assignment using an inplace method.\n",
            "The behavior will change in pandas 3.0. This inplace method will never work because the intermediate object on which we are setting values always behaves as a copy.\n",
            "\n",
            "For example, when doing 'df[col].method(value, inplace=True)', try using 'df.method({col: value}, inplace=True)' or df[col] = df[col].method(value) instead, to perform the operation inplace on the original object.\n",
            "\n",
            "\n",
            "  df['ca'].fillna(df['ca'].mean(),inplace=True)\n"
          ]
        }
      ]
    }
  ]
}